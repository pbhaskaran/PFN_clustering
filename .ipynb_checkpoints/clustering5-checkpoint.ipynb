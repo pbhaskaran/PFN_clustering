{
 "cells": [
  {
   "cell_type": "code",
   "execution_count": 1,
   "id": "d0e73a5e-5771-44c9-8ae5-904b34bc40d1",
   "metadata": {},
   "outputs": [],
   "source": [
    "import utils \n",
    "import transformer \n",
    "import bar_distribution\n",
    "import torch\n",
    "import torch.nn as nn\n",
    "import torch.nn.functional as F\n",
    "import numpy as np\n",
    "import matplotlib\n",
    "import matplotlib.pyplot as plt\n",
    "import random\n",
    "import prior \n",
    "matplotlib.use('TkAgg')\n",
    "%matplotlib inline\n",
    "import main\n",
    "import importlib\n",
    "device = torch.device(\"cuda\")\n",
    "importlib.reload(utils)\n",
    "importlib.reload(transformer)\n",
    "importlib.reload(bar_distribution)\n",
    "importlib.reload(main)\n",
    "importlib.reload(prior)\n",
    "import random\n",
    "from sklearn.cluster import KMeans\n",
    "#####################################################################################################################################################\n",
    "import warnings \n",
    "warnings.filterwarnings(\"ignore\")"
   ]
  },
  {
   "cell_type": "code",
   "execution_count": 4,
   "id": "97627feb-49c3-461c-80a3-8a9f1d33d94f",
   "metadata": {},
   "outputs": [
    {
     "name": "stdout",
     "output_type": "stream",
     "text": [
      "Using device: Quadro P1000\n",
      "total params:2111749\n"
     ]
    }
   ],
   "source": [
    "print(f\"Using device: {torch.cuda.get_device_name(torch.cuda.current_device())}\")\n",
    "device = torch.device(\"cuda\")\n",
    "d_model, nhead, nhid, nlayers = 256, 4, 512, 4\n",
    "seq_len = 100\n",
    "num_epochs = 20\n",
    "lr = 0.001\n",
    "num_outputs = 5\n",
    "batch_size = 300\n",
    "in_features = 2\n",
    "noise = False\n",
    "warm_up_epochs = 5\n",
    "std_variation=True\n",
    "model = transformer.Transformer(d_model, nhead, nhid, nlayers,in_features=in_features, buckets_size=num_outputs).to(device)\n",
    "print(f\"total params:{sum(p.numel() for p in model.parameters())}\")\n",
    "#criterion = bar_distribution.FullSupportBarDistribution(bar_distribution.get_bucket_limits(num_outputs=num_outputs,ys=y))\n",
    "criterion = nn.CrossEntropyLoss()\n",
    "optimizer = torch.optim.AdamW(model.parameters(), lr=lr)\n",
    "scheduler = utils.get_cosine_schedule_with_warmup(optimizer, warm_up_epochs, num_epochs)\n",
    "model.criterion = criterion"
   ]
  },
  {
   "cell_type": "code",
   "execution_count": 5,
   "id": "175ad0f6-157f-4f31-9a49-6710d2ded1c9",
   "metadata": {},
   "outputs": [
    {
     "name": "stdout",
     "output_type": "stream",
     "text": [
      "| epoch   0 | lr 0.0002 || validation loss 1.534\n",
      "training completed in 137.70 seconds\n"
     ]
    }
   ],
   "source": [
    "%matplotlib inline\n",
    "trains= main.train(model, criterion, num_epochs, optimizer, scheduler, batch_size, in_features, num_classes=num_outputs,std_variation=std_variation)"
   ]
  },
  {
   "cell_type": "code",
   "execution_count": 6,
   "id": "94128a23-54a4-4b49-a7ba-cc66e8c4c830",
   "metadata": {},
   "outputs": [
    {
     "data": {
      "image/png": "[encoded data removed]",
      "text/plain": [
       "<Figure size 640x480 with 1 Axes>"
      ]
     },
     "metadata": {},
     "output_type": "display_data"
    }
   ],
   "source": [
    "%matplotlib inline\n",
    "plt.scatter(np.arange(num_epochs), trains, label=\"training loss\")\n",
    "plt.show()"
   ]
  },
  {
   "cell_type": "code",
   "execution_count": 7,
   "id": "70ee0772-0035-433b-ac1c-0749cafd3af9",
   "metadata": {},
   "outputs": [
    {
     "name": "stdout",
     "output_type": "stream",
     "text": [
      "160\n"
     ]
    },
    {
     "data": {
      "text/plain": [
       "Transformer(\n",
       "  (encoder): TransformerEncoder(\n",
       "    (layers): ModuleList(\n",
       "      (0-3): 4 x TransformerEncoderLayer(\n",
       "        (self_attn): MultiheadAttention(\n",
       "          (out_proj): NonDynamicallyQuantizableLinear(in_features=256, out_features=256, bias=True)\n",
       "        )\n",
       "        (linear1): Linear(in_features=256, out_features=512, bias=True)\n",
       "        (dropout): Dropout(p=0, inplace=False)\n",
       "        (linear2): Linear(in_features=512, out_features=256, bias=True)\n",
       "        (norm1): LayerNorm((256,), eps=1e-05, elementwise_affine=True)\n",
       "        (norm2): LayerNorm((256,), eps=1e-05, elementwise_affine=True)\n",
       "        (dropout1): Dropout(p=0, inplace=False)\n",
       "        (dropout2): Dropout(p=0, inplace=False)\n",
       "      )\n",
       "    )\n",
       "    (norm): LayerNorm((256,), eps=1e-05, elementwise_affine=True)\n",
       "  )\n",
       "  (decoder): Linear(in_features=256, out_features=5, bias=True)\n",
       "  (linear_x): Sequential(\n",
       "    (0): Normalize()\n",
       "    (1): Linear(in_features=2, out_features=256, bias=True)\n",
       "  )\n",
       "  (linear_num_clusters): Linear(in_features=2, out_features=256, bias=True)\n",
       "  (criterion): CrossEntropyLoss()\n",
       ")"
      ]
     },
     "execution_count": 7,
     "metadata": {},
     "output_type": "execute_result"
    }
   ],
   "source": [
    "%matplotlib inline\n",
    "temp_batch_size = 10\n",
    "std_variation = True\n",
    "random_seed = 42\n",
    "train_X, train_Y, y_target_noisy, batch_classes = prior.sample_clusters(batch_size=temp_batch_size,num_classes=num_outputs, kmeans=True,std_variation = std_variation) \n",
    "print(len(train_X))\n",
    "model.eval() "
   ]
  },
  {
   "cell_type": "code",
   "execution_count": 30,
   "id": "c9f7f0db-69e9-49e1-8ba9-b68cee50e9e4",
   "metadata": {},
   "outputs": [
    {
     "name": "stdout",
     "output_type": "stream",
     "text": [
      "torch.Size([160, 5])\n",
      "torch.Size([1, 5])\n",
      "torch.Size([160, 5])\n",
      "torch.Size([1, 5])\n",
      "torch.Size([160, 5])\n",
      "torch.Size([1, 5])\n",
      "torch.Size([160, 5])\n",
      "torch.Size([1, 5])\n",
      "torch.Size([160, 5])\n",
      "torch.Size([1, 5])\n",
      "torch.Size([160, 5])\n",
      "torch.Size([1, 5])\n"
     ]
    },
    {
     "ename": "IndexError",
     "evalue": "index 5 is out of bounds for dimension 1 with size 5",
     "output_type": "error",
     "traceback": [
      "\u001b[1;31m---------------------------------------------------------------------------\u001b[0m",
      "\u001b[1;31mIndexError\u001b[0m                                Traceback (most recent call last)",
      "Cell \u001b[1;32mIn[30], line 15\u001b[0m\n\u001b[0;32m     13\u001b[0m     predictions \u001b[38;5;241m=\u001b[39m torch\u001b[38;5;241m.\u001b[39margmax(logits, dim\u001b[38;5;241m=\u001b[39m\u001b[38;5;241m1\u001b[39m)\n\u001b[0;32m     14\u001b[0m     axes[\u001b[38;5;241m2\u001b[39m \u001b[38;5;241m*\u001b[39m batch_index \u001b[38;5;241m+\u001b[39m\u001b[38;5;241m1\u001b[39m]\u001b[38;5;241m.\u001b[39mscatter(train_x[:,\u001b[38;5;241m0\u001b[39m, \u001b[38;5;241m0\u001b[39m]\u001b[38;5;241m.\u001b[39mcpu()\u001b[38;5;241m.\u001b[39mnumpy() , train_x[:,\u001b[38;5;241m0\u001b[39m, \u001b[38;5;241m1\u001b[39m]\u001b[38;5;241m.\u001b[39mcpu()\u001b[38;5;241m.\u001b[39mnumpy() , c\u001b[38;5;241m=\u001b[39mpredictions\u001b[38;5;241m.\u001b[39mcpu()\u001b[38;5;241m.\u001b[39mnumpy())\n\u001b[1;32m---> 15\u001b[0m     axes[\u001b[38;5;241m2\u001b[39m \u001b[38;5;241m*\u001b[39m batch_index \u001b[38;5;241m+\u001b[39m \u001b[38;5;241m1\u001b[39m]\u001b[38;5;241m.\u001b[39mtext(\u001b[38;5;241m0.9\u001b[39m, \u001b[38;5;241m0.9\u001b[39m, \u001b[38;5;124mf\u001b[39m\u001b[38;5;124m\"\u001b[39m\u001b[38;5;132;01m{\u001b[39;00mcluster_output[:,\u001b[38;5;250m \u001b[39mbatch_index]\u001b[38;5;250m \u001b[39m\u001b[38;5;241m+\u001b[39m\u001b[38;5;250m \u001b[39m\u001b[38;5;241m1\u001b[39m\u001b[38;5;132;01m}\u001b[39;00m\u001b[38;5;124m\"\u001b[39m) \n\u001b[0;32m     17\u001b[0m axes[\u001b[38;5;241m1\u001b[39m]\u001b[38;5;241m.\u001b[39mset_title(\u001b[38;5;124mf\u001b[39m\u001b[38;5;124m\"\u001b[39m\u001b[38;5;124mtransformer prediction\u001b[39m\u001b[38;5;124m\"\u001b[39m)\n\u001b[0;32m     18\u001b[0m axes[\u001b[38;5;241m0\u001b[39m]\u001b[38;5;241m.\u001b[39mset_title(\u001b[38;5;124mf\u001b[39m\u001b[38;5;124m\"\u001b[39m\u001b[38;5;124mreal data points\u001b[39m\u001b[38;5;124m\"\u001b[39m)\n",
      "\u001b[1;31mIndexError\u001b[0m: index 5 is out of bounds for dimension 1 with size 5"
     ]
    }
   ],
   "source": [
    "# # Set up grid for subplots\n",
    "fig, axes = plt.subplots(temp_batch_size, 2, figsize=(15, 15)) \n",
    "axes = axes.flatten() \n",
    "for batch_index in range(temp_batch_size):\n",
    "    train_x = train_X[:, batch_index].unsqueeze(1)\n",
    "    train_y = train_Y[:, batch_index] \n",
    "    axes[2 * batch_index].scatter(train_x[:, 0, 0].cpu().numpy() , train_x[:,0, 1].cpu().numpy() , c=train_y.cpu().numpy())\n",
    "    logits,cluster_output = model(train_x)\n",
    "    logits = logits.squeeze(1)\n",
    "    cluster_output = cluster_output.squeeze(1)\n",
    "    print(logits.shape)\n",
    "    print(cluster_output.shape)\n",
    "    predictions = torch.argmax(logits, dim=1)\n",
    "    axes[2 * batch_index +1].scatter(train_x[:,0, 0].cpu().numpy() , train_x[:,0, 1].cpu().numpy() , c=predictions.cpu().numpy())\n",
    "    axes[2 * batch_index + 1].text(0.9, 0.9, f\"{cluster_output[:, batch_index] + 1}\") \n",
    "\n",
    "axes[1].set_title(f\"transformer prediction\")\n",
    "axes[0].set_title(f\"real data points\")\n",
    "plt.show()"
   ]
  },
  {
   "cell_type": "code",
   "execution_count": null,
   "id": "1afb5733-1443-4291-93f7-33c355caf56f",
   "metadata": {},
   "outputs": [],
   "source": []
  }
 ],
 "metadata": {
  "kernelspec": {
   "display_name": "cuda_test",
   "language": "python",
   "name": "cuda_test"
  },
  "language_info": {
   "codemirror_mode": {
    "name": "ipython",
    "version": 3
   },
   "file_extension": ".py",
   "mimetype": "text/x-python",
   "name": "python",
   "nbconvert_exporter": "python",
   "pygments_lexer": "ipython3",
   "version": "3.12.3"
  }
 },
 "nbformat": 4,
 "nbformat_minor": 5
}
